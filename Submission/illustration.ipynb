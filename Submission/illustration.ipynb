{
 "cells": [
  {
   "cell_type": "markdown",
   "metadata": {},
   "source": [
    "## The method to load circuits in `QASM` format.\n",
    "?"
   ]
  },
  {
   "cell_type": "markdown",
   "metadata": {},
   "source": [
    "# Explanation to the Optimization Techniques\n",
    "## Pauli String Grouping Technique\n",
    "### Abstract\n",
    "One of the main methods proposed to suppress an increase in the number of measurements is the partitioning method, where Pauli strings are partitioned so that their expectation values can be measured simultaneously. \n",
    "\n",
    "In this method, a group of Pauli strings is divided into subgroups, and all the components of each subgroup are measured simultaneously using only one circuit (hereafter, such subgroups are called “partitions”). \n",
    "\n",
    "### Implementation\n",
    "The problem of Pauli string grouping can be broken down into two parts:\n",
    "1. The partition of a given group of Pauli strings.\n",
    "2. The method to get the equivalent measurement results of pauli strings in a partition from the result of the so-called \"simultaneous measurement\" \n",
    "\n",
    "We solve the first part (the partition) of the problem by (?xxx L) calling the function/method in the `Estimator`, and we tackle the second part by using the function xxx in xxx.py\n",
    "\n",
    "this is the workflow of xxx:\n",
    "1. xxx\n",
    "\n"
   ]
  },
  {
   "cell_type": "markdown",
   "metadata": {},
   "source": [
    "## Error Mitigation Technique\n"
   ]
  },
  {
   "cell_type": "markdown",
   "metadata": {},
   "source": [
    "### Readout Error Mitigation"
   ]
  },
  {
   "cell_type": "markdown",
   "metadata": {},
   "source": [
    "### Zero-Noise Extrapolation\n"
   ]
  },
  {
   "cell_type": "markdown",
   "metadata": {},
   "source": [
    "## Transpile Optimization"
   ]
  },
  {
   "cell_type": "markdown",
   "metadata": {},
   "source": [
    "# Alignment with the qiskit estimator\n"
   ]
  }
 ],
 "metadata": {
  "language_info": {
   "name": "python"
  },
  "orig_nbformat": 4
 },
 "nbformat": 4,
 "nbformat_minor": 2
}
