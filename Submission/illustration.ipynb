{
 "cells": [
  {
   "cell_type": "markdown",
   "metadata": {},
   "source": [
    "# The method to load circuits in `QASM` format.\n",
    "?"
   ]
  },
  {
   "cell_type": "markdown",
   "metadata": {},
   "source": [
    "# Explanation to the Optimization Techniques\n",
    "## Pauli String Grouping Technique\n",
    "### Abstract\n",
    "One of the main methods proposed to suppress an increase in the number of measurements is the partitioning method, where Pauli strings are partitioned so that their expectation values can be measured simultaneously. \n",
    "\n",
    "In this method, a group of Pauli strings is divided into subgroups, and all the components of each subgroup are measured simultaneously using only one circuit (hereafter, such subgroups are called “partitions”). \n",
    "\n",
    "### Implementation\n",
    "The problem of Pauli string grouping can be broken down into two parts:\n",
    "1. The partition of a given group of Pauli strings.\n",
    "2. The method to get the equivalent measurement results of pauli strings in a partition from the result of the so-called \"simultaneous measurement\" \n",
    "\n",
    "We solve the first part (the partition) of the problem by (?xxx L) calling the function/method in the `Estimator`, and we tackle the second part by using the function xxx in xxx.py\n",
    "\n",
    "this is the workflow of xxx:\n",
    "1. xxx\n",
    "\n"
   ]
  },
  {
   "cell_type": "markdown",
   "metadata": {},
   "source": [
    "## Error Mitigation Technique\n"
   ]
  },
  {
   "cell_type": "markdown",
   "metadata": {},
   "source": [
    "### Readout Error Mitigation\n",
    "#### Abstract\n",
    "Readout-Error Mitigation (REM) is an error mitigation technique in which inverted transition / confusion matrices are applied to the noisy measurement results.\n",
    "\n",
    "technique is based on two main ideas:\n",
    "\n",
    "1. Generating a confusion matrix for a specific device;\n",
    "\n",
    "2. Computing the psuedoinverse of this confusion matrix and applying it to the raw measurement (or “readout”) results.\n",
    "\n",
    "#### Implementation\n",
    "##### Measurement based method\n",
    "The readout mitigator is generated from an assignment matrix: a $2^n \\times 2^n$ matrix A such that $A_{y,x}$ is the probability to observe y given the true outcome should be x. The assignment matrix is used to compute the mitigation matrix used in the readout error mitigation process itself.\n",
    "\n",
    "A Correlated readout mitigator uses the full $2^n \\times 2^n$ assignment matrix, meaning it can only be used for small values of n. \n",
    "\n",
    "We use correlated readout mitigation in our program for better accuracy.\n",
    "\n",
    "we can get the mitigator(derived from assignment matrix) by the following measurement and process procedure:"
   ]
  },
  {
   "cell_type": "markdown",
   "metadata": {},
   "source": [
    "```python\n",
    "exp = LocalReadoutError(qubits)\n",
    "for c in exp.circuits():\n",
    "    print(c)\n",
    "result = exp.run(backend)\n",
    "mitigator = result.analysis_results(0).value\n",
    "```\n",
    "After we get the mitigator, it's easy to calculate the mitigated expectation value of a diagonal observable (namely a Pauli string) from the measurement result:\n",
    "`expectation=mitigator.expectation_value(data=measurement_count, diagonal=pauli,  shots=shots)`"
   ]
  },
  {
   "cell_type": "markdown",
   "metadata": {},
   "source": [
    "\n",
    "##### Noise model based method\n",
    "the figure below shows how to use REM by mitiq.rem.\n",
    "![Alt text](image.png)\n",
    "\n",
    "Since the estimated confusion matrix A is circuit-independent—it characterizes the readout noise of the device regardless of what circuit is being executed, we can get matrix A directly from the noise model.\n",
    "\n",
    "We can obtain the mitigator by: `mitigator = qiskit.result.CorrelatedReadoutMitigator(assignment_matrices=matrix_A)`"
   ]
  },
  {
   "cell_type": "markdown",
   "metadata": {},
   "source": [
    "### Zero-Noise Extrapolation (ZNE)\n",
    "The figure below shows the main procedure of ZNE mitigation method:\n",
    "![Alt text](image-1.png)\n",
    "\n",
    "#### Abstract\n",
    "Zero noise extrapolation (ZNE) is an error\n",
    "mitigation technique used to extrapolate the noiseless expectation value of an\n",
    "observable from a range of expectation values computed at different noise levels.\n",
    "This process works in two steps:\n",
    "\n",
    "- **Step 1: Intentionally scale noise**. This can be done with different methods.\n",
    "*Pulse-stretching*  can be used to increase the noise level of a quantum computation. Similar results can be obtained, at a gate-level, with *unitary folding* or *identity insertion scaling*.\n",
    "\n",
    "- **Step 2: Extrapolate to the noiseless limit**. This can be done by\n",
    "fitting a curve (often called *extrapolation model*) to the expectation values measured at different noise levels to extrapolate the noiseless expectation value."
   ]
  },
  {
   "cell_type": "markdown",
   "metadata": {},
   "source": [
    "#### Implementation\n",
    "##### First Step: Generating noise-scaled quantum circuits\n",
    "  - We provide a `QPROGRAM`, i.e., a `QuantumCircuit` defined by Qiskit.\n",
    "  - Mitiq generates a set of noise-scaled circuits by applying a scaling method (*unitary folding* or *identity insertion scaling*) with different scale factors.\n",
    "  - The noise-scaled circuits are executed on the noisy backend obtaining a set of noise-scaled expectation values.\n",
    "\n",
    "##### Second Step: Inferring the zero-noise value from the measured results\n",
    "  - A parametrized curve is fit to the noise-scaled expectation values obtained in step one.\n",
    "  - The curve is extrapolated to the zero-noise limit, obtaining an error mitigated expectation value.\n",
    "\n",
    "##### The optimization of parameters for ZNE\n",
    "There are three key parameters in ZNE that can affect its performance: \n",
    "- the scale factors, i.e., [1.0, 2.0, 3.0] (which is the optimal choice, from our previous experiment)\n",
    "- the folding method (which inserts gates into original circuit to scale the noise), i.e., the fold_global method (which, from our previous experiment, is also the optimal choice)\n",
    "- the extrapolation method, i.e., Rechardson extrapolation method (which is the optimal choice, from our previous experiment)\n",
    "\n"
   ]
  },
  {
   "cell_type": "markdown",
   "metadata": {},
   "source": [
    "## Transpile Optimization\n",
    "We flexibly make use of the transpile optimization to improve the performance of our program. \n",
    "The function we called to optimize the circuit transpiling is xxx.transpile(optimization_level=xxx)\n",
    "here we set the otimization_level to 3 in certain parts of our procedure, to mitigate the extent of the circuit decoherence and quantum gate noise.\n",
    "and in some other parts of the process, we set optimization_level to 0 with the aim of avoiding disturbing the noise scaled quantum circuit, otherwise the inserted gates pair like $X$ and $X^{\\dagger}$ which is equivalent to an identity gate in theory but invokes noise in practice.\n"
   ]
  },
  {
   "cell_type": "markdown",
   "metadata": {},
   "source": [
    "# Alignment with the qiskit estimator\n"
   ]
  }
 ],
 "metadata": {
  "language_info": {
   "name": "python"
  },
  "orig_nbformat": 4
 },
 "nbformat": 4,
 "nbformat_minor": 2
}
